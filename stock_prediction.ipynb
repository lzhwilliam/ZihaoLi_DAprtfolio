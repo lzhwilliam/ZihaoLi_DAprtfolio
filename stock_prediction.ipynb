{
  "nbformat": 4,
  "nbformat_minor": 0,
  "metadata": {
    "colab": {
      "provenance": [],
      "collapsed_sections": [
        "shuqM3Ox-C1n"
      ]
    },
    "kernelspec": {
      "name": "python3",
      "display_name": "Python 3"
    },
    "language_info": {
      "name": "python"
    },
    "accelerator": "GPU",
    "gpuClass": "standard"
  },
  "cells": [
    {
      "cell_type": "markdown",
      "source": [
        "#A NEURAL NETWORK MACHINE LEARNING MODEL TO PREDICT A COMPANY'S STOCK PRICE\n",
        "\n",
        "this project is completed by myself alone for the purpose of practicing Python and machine learning skills, and improve machine learning knowledges. This project contain "
      ],
      "metadata": {
        "id": "shuqM3Ox-C1n"
      }
    },
    {
      "cell_type": "markdown",
      "source": [
        "# PART 1: DATA PREPROCESSING"
      ],
      "metadata": {
        "id": "fdPJZNpyCsAH"
      }
    },
    {
      "cell_type": "code",
      "source": [
        "import numpy as np\n",
        "import pandas as pd\n",
        "import matplotlib.pyplot as plt\n",
        "\n",
        "import torch.nn as nn\n",
        "import torch\n",
        "from torch.autograd import Variable\n",
        "from torch.utils.data import Dataset, DataLoader"
      ],
      "metadata": {
        "id": "F0VTF2ec6Gwr"
      },
      "execution_count": null,
      "outputs": []
    },
    {
      "cell_type": "markdown",
      "source": [
        "\n",
        "\n",
        "> **import dataset**\n",
        "\n"
      ],
      "metadata": {
        "id": "KrYfJKAcV1cT"
      }
    },
    {
      "cell_type": "code",
      "execution_count": null,
      "metadata": {
        "id": "kqg_rIgA4ZQ2"
      },
      "outputs": [],
      "source": [
        "url = 'https://raw.githubusercontent.com/williamLIZIHAO/stock_prediction/main/GOOGL.csv'\n",
        "df = pd.read_csv(url)"
      ]
    },
    {
      "cell_type": "markdown",
      "source": [
        "\n",
        "\n",
        "> **select only the closing price**\n",
        "\n"
      ],
      "metadata": {
        "id": "cEX6FMSsDXdl"
      }
    },
    {
      "cell_type": "code",
      "source": [
        "df1 = df.reset_index()['Close']"
      ],
      "metadata": {
        "id": "LejF6AwO6Mnz"
      },
      "execution_count": null,
      "outputs": []
    },
    {
      "cell_type": "markdown",
      "source": [
        "> ploting the closing value of Google stock\n",
        "\n"
      ],
      "metadata": {
        "id": "p0QY5uP8WGBh"
      }
    },
    {
      "cell_type": "code",
      "source": [
        "plt.plot(df1)"
      ],
      "metadata": {
        "colab": {
          "base_uri": "https://localhost:8080/",
          "height": 283
        },
        "id": "kYKgOGffVkWm",
        "outputId": "60e408a2-10cb-4dec-d63f-793e869bea2c"
      },
      "execution_count": null,
      "outputs": [
        {
          "output_type": "execute_result",
          "data": {
            "text/plain": [
              "[<matplotlib.lines.Line2D at 0x7f5e41a01430>]"
            ]
          },
          "metadata": {},
          "execution_count": 7
        },
        {
          "output_type": "display_data",
          "data": {
            "text/plain": [
              "<Figure size 432x288 with 1 Axes>"
            ],
            "image/png": "[encoded data removed]"
          },
          "metadata": {
            "needs_background": "light"
          }
        }
      ]
    },
    {
      "cell_type": "code",
      "source": [
        "df1"
      ],
      "metadata": {
        "colab": {
          "base_uri": "https://localhost:8080/"
        },
        "id": "Q_-OTIgv7xYY",
        "outputId": "b31d833f-4a2e-471d-c9f4-d1d110735c12"
      },
      "execution_count": null,
      "outputs": [
        {
          "output_type": "execute_result",
          "data": {
            "text/plain": [
              "0         50.220219\n",
              "1         54.209209\n",
              "2         54.754753\n",
              "3         52.487488\n",
              "4         53.053055\n",
              "           ...     \n",
              "3927    1162.920044\n",
              "3928    1110.260010\n",
              "3929    1146.310059\n",
              "3930    1161.949951\n",
              "3931    1102.099976\n",
              "Name: Close, Length: 3932, dtype: float64"
            ]
          },
          "metadata": {},
          "execution_count": 8
        }
      ]
    },
    {
      "cell_type": "markdown",
      "source": [
        "#PART 2: BUILDING MACHINE LEARNING MODEL"
      ],
      "metadata": {
        "id": "Fpc47SR0WkJx"
      }
    },
    {
      "cell_type": "markdown",
      "source": [
        "## PART 2.1 DATA PREPARATION"
      ],
      "metadata": {
        "id": "_EhWcQiSK31C"
      }
    },
    {
      "cell_type": "markdown",
      "source": [
        "\n",
        "\n",
        "> using MinMaxScaler to transform all data points\n",
        "\n",
        "\n",
        "> also transformed the dataset to an array with shape of one column and length of the dataset rows\n",
        "\n",
        "\n",
        "\n"
      ],
      "metadata": {
        "id": "qu__G1pzDr3P"
      }
    },
    {
      "cell_type": "code",
      "source": [
        "from sklearn.preprocessing import MinMaxScaler\n",
        "\n",
        "sc = MinMaxScaler(feature_range=(0, 1))\n",
        "df1 = np.array(df1).reshape(-1, 1)\n",
        "df1 = sc.fit_transform(df1)\n",
        "df1"
      ],
      "metadata": {
        "id": "kUJFVSJd8BTZ",
        "colab": {
          "base_uri": "https://localhost:8080/"
        },
        "outputId": "64c0e49c-2258-4197-d49c-6b4558f38a90"
      },
      "execution_count": null,
      "outputs": [
        {
          "output_type": "execute_result",
          "data": {
            "text/plain": [
              "array([[1.11990286e-04],\n",
              "       [2.81673016e-03],\n",
              "       [3.18663669e-03],\n",
              "       ...,\n",
              "       [7.43316991e-01],\n",
              "       [7.53921639e-01],\n",
              "       [7.13340293e-01]])"
            ]
          },
          "metadata": {},
          "execution_count": 10
        }
      ]
    },
    {
      "cell_type": "markdown",
      "source": [
        "\n",
        "\n",
        "> seperate independent and dependent data. to do so, I created a user defined function where I can append a sequnece of data points to X an Y that show below:\n",
        "*   X: [[1: 100], [2:101], [3:102], .... ,[n - 101, n - 1]]\n",
        "*   Y: [101, 102, 103, ..... , n]\n",
        "\n",
        "\n",
        "\n",
        "\n",
        "\n",
        "\n"
      ],
      "metadata": {
        "id": "H_oIlZxGED1v"
      }
    },
    {
      "cell_type": "code",
      "source": [
        "def processData(data, lookback):\n",
        "  x, y = [], []\n",
        "  for i in range(len(data) - lookback - 1):\n",
        "    x.append(data[i: (i+lookback), 0])\n",
        "    y.append(data[(i+ lookback), 0])\n",
        "  return np.array(x),  np.array(y)\n",
        "\n",
        "\n",
        "x, y = processData(df1, 100)\n",
        "x"
      ],
      "metadata": {
        "id": "MELKCm2j9e7k",
        "colab": {
          "base_uri": "https://localhost:8080/"
        },
        "outputId": "096f3705-dae4-4511-f8df-7b7d6b599f4c"
      },
      "execution_count": null,
      "outputs": [
        {
          "output_type": "execute_result",
          "data": {
            "text/plain": [
              "array([[1.11990286e-04, 2.81673016e-03, 3.18663669e-03, ...,\n",
              "        3.00473738e-02, 3.18460055e-02, 3.22566374e-02],\n",
              "       [2.81673016e-03, 3.18663669e-03, 1.64931478e-03, ...,\n",
              "        3.18460055e-02, 3.22566374e-02, 3.17408049e-02],\n",
              "       [3.18663669e-03, 1.64931478e-03, 2.03279816e-03, ...,\n",
              "        3.22566374e-02, 3.17408049e-02, 3.23652367e-02],\n",
              "       ...,\n",
              "       [8.28710716e-01, 8.40481675e-01, 8.41722478e-01, ...,\n",
              "        7.32264724e-01, 7.13014841e-01, 7.54579411e-01],\n",
              "       [8.40481675e-01, 8.41722478e-01, 8.41430963e-01, ...,\n",
              "        7.13014841e-01, 7.54579411e-01, 7.18873213e-01],\n",
              "       [8.41722478e-01, 8.41430963e-01, 8.52232272e-01, ...,\n",
              "        7.54579411e-01, 7.18873213e-01, 7.43316991e-01]])"
            ]
          },
          "metadata": {},
          "execution_count": 17
        }
      ]
    },
    {
      "cell_type": "markdown",
      "source": [
        "\n",
        "\n",
        "> \n",
        "\n"
      ],
      "metadata": {
        "id": "m-8xLa46IzGK"
      }
    },
    {
      "cell_type": "markdown",
      "source": [
        "\n",
        "\n",
        "> here I made train & test split. 80% will be used to train and 20% will be used to test\n",
        "\n"
      ],
      "metadata": {
        "id": "5pB_qsyoI8ZL"
      }
    },
    {
      "cell_type": "code",
      "source": [
        "x_train, x_test = x[:int(x.shape[0]*0.80)], x[int(x.shape[0]*0.80):]\n",
        "y_train, y_test = y[:int(y.shape[0]*0.80)], y[int(y.shape[0]*0.80):]\n",
        "\n",
        "print(x_train.shape[0])\n",
        "print(x_test.shape[0])\n",
        "print(y_train.shape[0])\n",
        "print(y_test.shape[0])"
      ],
      "metadata": {
        "colab": {
          "base_uri": "https://localhost:8080/"
        },
        "id": "TvUbE-LFYFB_",
        "outputId": "9d06640c-1c5f-4a79-e182-33cd9558df88"
      },
      "execution_count": null,
      "outputs": [
        {
          "output_type": "stream",
          "name": "stdout",
          "text": [
            "3064\n",
            "767\n",
            "3064\n",
            "767\n"
          ]
        }
      ]
    },
    {
      "cell_type": "markdown",
      "source": [
        "## PART 2.2 RECURRENT NEURAL NETWORK MODEL"
      ],
      "metadata": {
        "id": "yjKdyOlQKf5l"
      }
    },
    {
      "cell_type": "markdown",
      "source": [
        "type of artificial neural network designed to work with sequential data, where the order of the input matters. The key feature of RNNs is that they have hidden states that capture the context and dependencies of the previous inputs.The basic architecture of an RNN includes an input layer, a hidden layer, and an output layer. \n",
        "\n",
        "For my RNN model, I have created two layers: \n",
        "\n",
        "\n",
        "*   LSTM Layer\n",
        "*   Linear Layer\n",
        "\n"
      ],
      "metadata": {
        "id": "ZBg5NudHLGgY"
      }
    },
    {
      "cell_type": "code",
      "source": [
        "class RNN(nn.Module):\n",
        "  def __init__(self, i_size, h_size, n_layers, o_size, dropout=0.1, bidirectional = True):\n",
        "    super(RNN, self).__init__()\n",
        "    self.num_directions = bidirectional+1\n",
        "    self.rnn = nn.LSTM(\n",
        "        input_size=i_size,\n",
        "        hidden_size=h_size,\n",
        "        num_layers = n_layers,\n",
        "        dropout = dropout,\n",
        "        bidirectional = bidirectional\n",
        "    )\n",
        "    self.out = nn.Linear(h_size, o_size)\n",
        "\n",
        "  def forward(self, x, h_state):\n",
        "    r_out, hidden_state = self.rnn(x, h_state)\n",
        "\n",
        "    hidden_size=  hidden_state[-1].size(-1)\n",
        "    r_out = r_out.view(-1, self.num_directions, hidden_size)\n",
        "    outs = self.out(r_out)\n",
        "\n",
        "    return outs, hidden_state"
      ],
      "metadata": {
        "id": "J1moywVPcAhO"
      },
      "execution_count": null,
      "outputs": []
    },
    {
      "cell_type": "code",
      "source": [
        "input_size = 100\n",
        "hidden_size = 64\n",
        "num_layers = 3\n",
        "output_size = 1\n",
        "batch_size = 128\n",
        "\n",
        "learning_rate = 0.001\n",
        "num_epochs = 500\n",
        "\n",
        "rnn = RNN(input_size, hidden_size, num_layers, output_size, bidirectional =False)\n",
        "rnn.cuda()\n",
        "\n",
        "optimizer = torch.optim.Adam(rnn.parameters(), lr=learning_rate)\n",
        "criterion = nn.MSELoss() \n",
        "\n",
        "hidden_state = None"
      ],
      "metadata": {
        "id": "umvi5TL2_YX5"
      },
      "execution_count": null,
      "outputs": []
    },
    {
      "cell_type": "markdown",
      "source": [
        "\n",
        "\n",
        "> reshaping the train and test array into this format \n",
        "*   (x_train.shape[0], 1, x_train.shape[1])\n",
        "\n",
        "> convert it into tensor, which is required for dataset before putting into RNN model\n",
        "\n",
        "\n",
        "\n",
        "\n",
        "\n"
      ],
      "metadata": {
        "id": "p3PttUnnKGjw"
      }
    },
    {
      "cell_type": "code",
      "source": [
        "x_train = np.reshape(x_train, (x_train.shape[0], 1, x_train.shape[1]))\n",
        "x_test = np.reshape(x_test, (x_test.shape[0], 1, x_test.shape[1]))"
      ],
      "metadata": {
        "id": "QcUOaOfcb4LH"
      },
      "execution_count": null,
      "outputs": []
    },
    {
      "cell_type": "code",
      "source": [
        "history = []\n",
        "x_test_cuda = torch.tensor(x_test).float().cuda()\n",
        "y_test_cuda = torch.tensor(y_test).float().cuda()\n",
        "\n",
        "inputs_cuda = torch.tensor(x_train).float().cuda()\n",
        "labels_cuda = torch.tensor(y_train).float().cuda()"
      ],
      "metadata": {
        "id": "zTYyVe1kUnq9"
      },
      "execution_count": null,
      "outputs": []
    },
    {
      "cell_type": "markdown",
      "source": [
        "\n",
        "\n",
        "> model trainning and optimization process.\n",
        "\n",
        "\n",
        "> for every 20 iteration, checking on the loss of test dataset between predict and actual ys' . otherwise only show trainset's loss\n",
        "\n",
        "\n",
        "\n"
      ],
      "metadata": {
        "id": "z4-8rxqdVaJu"
      }
    },
    {
      "cell_type": "code",
      "source": [
        "for epoch in range(num_epochs):\n",
        "  rnn.train()\n",
        "  output, _ = rnn(inputs_cuda, hidden_state)\n",
        "  print(output.size())\n",
        "\n",
        "  loss = criterion(output[:,0,:].view(-1), labels_cuda)\n",
        "  optimizer.zero_grad()\n",
        "  loss.backward()\n",
        "  optimizer.step()\n",
        "\n",
        "  if epoch % 20 == 0:\n",
        "    rnn.eval()\n",
        "    test_output, _ = rnn(x_test_cuda, hidden_state)\n",
        "    test_loss = criterion(test_output.view(-1), y_test_cuda)\n",
        "    print('epoch {}, loss {}, eval loss {}'.format(epoch, loss.item(), test_loss.item()))\n",
        "  else:\n",
        "    print('epoch {}, loss {}'.format(epoch, loss.item()))\n",
        "  \n",
        "  history.append(loss.item())\n",
        "  "
      ],
      "metadata": {
        "colab": {
          "base_uri": "https://localhost:8080/"
        },
        "id": "Irt0hE3qHLiX",
        "outputId": "95f65518-9e6b-4f2c-cae4-42c38a8facab"
      },
      "execution_count": null,
      "outputs": [
        {
          "output_type": "stream",
          "name": "stdout",
          "text": [
            "torch.Size([3064, 1, 1])\n",
            "epoch 0, loss 0.04775448143482208, eval loss 0.39699167013168335\n",
            "torch.Size([3064, 1, 1])\n",
            "epoch 1, loss 0.03503188490867615\n",
            "torch.Size([3064, 1, 1])\n",
            "epoch 2, loss 0.02410503290593624\n",
            "torch.Size([3064, 1, 1])\n",
            "epoch 3, loss 0.015205415897071362\n",
            "torch.Size([3064, 1, 1])\n",
            "epoch 4, loss 0.009609411470592022\n",
            "torch.Size([3064, 1, 1])\n",
            "epoch 5, loss 0.00938123557716608\n",
            "torch.Size([3064, 1, 1])\n",
            "epoch 6, loss 0.01406329870223999\n",
            "torch.Size([3064, 1, 1])\n",
            "epoch 7, loss 0.015035013668239117\n",
            "torch.Size([3064, 1, 1])\n",
            "epoch 8, loss 0.012231466360390186\n",
            "torch.Size([3064, 1, 1])\n",
            "epoch 9, loss 0.008888558484613895\n",
            "torch.Size([3064, 1, 1])\n",
            "epoch 10, loss 0.007014124188572168\n",
            "torch.Size([3064, 1, 1])\n",
            "epoch 11, loss 0.006456517614424229\n",
            "torch.Size([3064, 1, 1])\n",
            "epoch 12, loss 0.00662322947755456\n",
            "torch.Size([3064, 1, 1])\n",
            "epoch 13, loss 0.006744261831045151\n",
            "torch.Size([3064, 1, 1])\n",
            "epoch 14, loss 0.0063756247982382774\n",
            "torch.Size([3064, 1, 1])\n",
            "epoch 15, loss 0.005306563805788755\n",
            "torch.Size([3064, 1, 1])\n",
            "epoch 16, loss 0.003583160461857915\n",
            "torch.Size([3064, 1, 1])\n",
            "epoch 17, loss 0.0019643111154437065\n",
            "torch.Size([3064, 1, 1])\n",
            "epoch 18, loss 0.001225288026034832\n",
            "torch.Size([3064, 1, 1])\n",
            "epoch 19, loss 0.0018849612679332495\n",
            "torch.Size([3064, 1, 1])\n",
            "epoch 20, loss 0.0028791858348995447, eval loss 0.013750418089330196\n",
            "torch.Size([3064, 1, 1])\n",
            "epoch 21, loss 0.0023220046423375607\n",
            "torch.Size([3064, 1, 1])\n",
            "epoch 22, loss 0.001247122068889439\n",
            "torch.Size([3064, 1, 1])\n",
            "epoch 23, loss 0.0007109928992576897\n",
            "torch.Size([3064, 1, 1])\n",
            "epoch 24, loss 0.001028044382110238\n",
            "torch.Size([3064, 1, 1])\n",
            "epoch 25, loss 0.001636982662603259\n",
            "torch.Size([3064, 1, 1])\n",
            "epoch 26, loss 0.001893351785838604\n",
            "torch.Size([3064, 1, 1])\n",
            "epoch 27, loss 0.0016904785297811031\n",
            "torch.Size([3064, 1, 1])\n",
            "epoch 28, loss 0.0012414504308253527\n",
            "torch.Size([3064, 1, 1])\n",
            "epoch 29, loss 0.000847653835080564\n",
            "torch.Size([3064, 1, 1])\n",
            "epoch 30, loss 0.000746783334761858\n",
            "torch.Size([3064, 1, 1])\n",
            "epoch 31, loss 0.0010951545555144548\n",
            "torch.Size([3064, 1, 1])\n",
            "epoch 32, loss 0.00134933867957443\n",
            "torch.Size([3064, 1, 1])\n",
            "epoch 33, loss 0.00120569730643183\n",
            "torch.Size([3064, 1, 1])\n",
            "epoch 34, loss 0.000902065250556916\n",
            "torch.Size([3064, 1, 1])\n",
            "epoch 35, loss 0.0006964345229789615\n",
            "torch.Size([3064, 1, 1])\n",
            "epoch 36, loss 0.0007268287008628249\n",
            "torch.Size([3064, 1, 1])\n",
            "epoch 37, loss 0.000822975009214133\n",
            "torch.Size([3064, 1, 1])\n",
            "epoch 38, loss 0.0010012127459049225\n",
            "torch.Size([3064, 1, 1])\n",
            "epoch 39, loss 0.0009452043450437486\n",
            "torch.Size([3064, 1, 1])\n",
            "epoch 40, loss 0.000893995282240212, eval loss 0.0522913932800293\n",
            "torch.Size([3064, 1, 1])\n",
            "epoch 41, loss 0.0007848715758882463\n",
            "torch.Size([3064, 1, 1])\n",
            "epoch 42, loss 0.0007053129957057536\n",
            "torch.Size([3064, 1, 1])\n",
            "epoch 43, loss 0.0007107323035597801\n",
            "torch.Size([3064, 1, 1])\n",
            "epoch 44, loss 0.0007987974677234888\n",
            "torch.Size([3064, 1, 1])\n",
            "epoch 45, loss 0.0008235715795308352\n",
            "torch.Size([3064, 1, 1])\n",
            "epoch 46, loss 0.000835066894069314\n",
            "torch.Size([3064, 1, 1])\n",
            "epoch 47, loss 0.0007486019167117774\n",
            "torch.Size([3064, 1, 1])\n",
            "epoch 48, loss 0.0006514210253953934\n",
            "torch.Size([3064, 1, 1])\n",
            "epoch 49, loss 0.0006422767182812095\n",
            "torch.Size([3064, 1, 1])\n",
            "epoch 50, loss 0.000674799841362983\n",
            "torch.Size([3064, 1, 1])\n",
            "epoch 51, loss 0.0007123108371160924\n",
            "torch.Size([3064, 1, 1])\n",
            "epoch 52, loss 0.0007065433310344815\n",
            "torch.Size([3064, 1, 1])\n",
            "epoch 53, loss 0.0006855467800050974\n",
            "torch.Size([3064, 1, 1])\n",
            "epoch 54, loss 0.000628637382760644\n",
            "torch.Size([3064, 1, 1])\n",
            "epoch 55, loss 0.0006004645256325603\n",
            "torch.Size([3064, 1, 1])\n",
            "epoch 56, loss 0.0006251360173337162\n",
            "torch.Size([3064, 1, 1])\n",
            "epoch 57, loss 0.0006860455614514649\n",
            "torch.Size([3064, 1, 1])\n",
            "epoch 58, loss 0.0006485228659585118\n",
            "torch.Size([3064, 1, 1])\n",
            "epoch 59, loss 0.0006476020789705217\n",
            "torch.Size([3064, 1, 1])\n",
            "epoch 60, loss 0.0005789616261608899, eval loss 0.03219457343220711\n",
            "torch.Size([3064, 1, 1])\n",
            "epoch 61, loss 0.0005676746950484812\n",
            "torch.Size([3064, 1, 1])\n",
            "epoch 62, loss 0.0005974214291200042\n",
            "torch.Size([3064, 1, 1])\n",
            "epoch 63, loss 0.0006063379696570337\n",
            "torch.Size([3064, 1, 1])\n",
            "epoch 64, loss 0.0006309967720881104\n",
            "torch.Size([3064, 1, 1])\n",
            "epoch 65, loss 0.00061255251057446\n",
            "torch.Size([3064, 1, 1])\n",
            "epoch 66, loss 0.0005602617166005075\n",
            "torch.Size([3064, 1, 1])\n",
            "epoch 67, loss 0.000587494985666126\n",
            "torch.Size([3064, 1, 1])\n",
            "epoch 68, loss 0.0005871211760677397\n",
            "torch.Size([3064, 1, 1])\n",
            "epoch 69, loss 0.0005975913372822106\n",
            "torch.Size([3064, 1, 1])\n",
            "epoch 70, loss 0.0005659988964907825\n",
            "torch.Size([3064, 1, 1])\n",
            "epoch 71, loss 0.0005609170766547322\n",
            "torch.Size([3064, 1, 1])\n",
            "epoch 72, loss 0.0005769254639744759\n",
            "torch.Size([3064, 1, 1])\n",
            "epoch 73, loss 0.0005523661384359002\n",
            "torch.Size([3064, 1, 1])\n",
            "epoch 74, loss 0.0005525994347408414\n",
            "torch.Size([3064, 1, 1])\n",
            "epoch 75, loss 0.0005743265501223505\n",
            "torch.Size([3064, 1, 1])\n",
            "epoch 76, loss 0.0005338417831808329\n",
            "torch.Size([3064, 1, 1])\n",
            "epoch 77, loss 0.0005645984201692045\n",
            "torch.Size([3064, 1, 1])\n",
            "epoch 78, loss 0.0005546725587919354\n",
            "torch.Size([3064, 1, 1])\n",
            "epoch 79, loss 0.0005567376501858234\n",
            "torch.Size([3064, 1, 1])\n",
            "epoch 80, loss 0.0005861229146830738, eval loss 0.024285083636641502\n",
            "torch.Size([3064, 1, 1])\n",
            "epoch 81, loss 0.0005563757731579244\n",
            "torch.Size([3064, 1, 1])\n",
            "epoch 82, loss 0.0005377078778110445\n",
            "torch.Size([3064, 1, 1])\n",
            "epoch 83, loss 0.0005448422161862254\n",
            "torch.Size([3064, 1, 1])\n",
            "epoch 84, loss 0.00052627082914114\n",
            "torch.Size([3064, 1, 1])\n",
            "epoch 85, loss 0.0005255311843939126\n",
            "torch.Size([3064, 1, 1])\n",
            "epoch 86, loss 0.0005498796235769987\n",
            "torch.Size([3064, 1, 1])\n",
            "epoch 87, loss 0.000544182606972754\n",
            "torch.Size([3064, 1, 1])\n",
            "epoch 88, loss 0.0005166417686268687\n",
            "torch.Size([3064, 1, 1])\n",
            "epoch 89, loss 0.0005176459671929479\n",
            "torch.Size([3064, 1, 1])\n",
            "epoch 90, loss 0.0005286723608151078\n",
            "torch.Size([3064, 1, 1])\n",
            "epoch 91, loss 0.0005080514238215983\n",
            "torch.Size([3064, 1, 1])\n",
            "epoch 92, loss 0.0005151712102815509\n",
            "torch.Size([3064, 1, 1])\n",
            "epoch 93, loss 0.0004922130610793829\n",
            "torch.Size([3064, 1, 1])\n",
            "epoch 94, loss 0.0005101581336930394\n",
            "torch.Size([3064, 1, 1])\n",
            "epoch 95, loss 0.0004754723922815174\n",
            "torch.Size([3064, 1, 1])\n",
            "epoch 96, loss 0.0005057704984210432\n",
            "torch.Size([3064, 1, 1])\n",
            "epoch 97, loss 0.0005070540937595069\n",
            "torch.Size([3064, 1, 1])\n",
            "epoch 98, loss 0.0005115500534884632\n",
            "torch.Size([3064, 1, 1])\n",
            "epoch 99, loss 0.0005229777889326215\n",
            "torch.Size([3064, 1, 1])\n",
            "epoch 100, loss 0.0005106769385747612, eval loss 0.021339282393455505\n",
            "torch.Size([3064, 1, 1])\n",
            "epoch 101, loss 0.000471599109005183\n",
            "torch.Size([3064, 1, 1])\n",
            "epoch 102, loss 0.0005062430282123387\n",
            "torch.Size([3064, 1, 1])\n",
            "epoch 103, loss 0.0004857068124692887\n",
            "torch.Size([3064, 1, 1])\n",
            "epoch 104, loss 0.000480141636217013\n",
            "torch.Size([3064, 1, 1])\n",
            "epoch 105, loss 0.0004409012326505035\n",
            "torch.Size([3064, 1, 1])\n",
            "epoch 106, loss 0.00045577058335766196\n",
            "torch.Size([3064, 1, 1])\n",
            "epoch 107, loss 0.0004916265606880188\n",
            "torch.Size([3064, 1, 1])\n",
            "epoch 108, loss 0.0004836401203647256\n",
            "torch.Size([3064, 1, 1])\n",
            "epoch 109, loss 0.0004604402929544449\n",
            "torch.Size([3064, 1, 1])\n",
            "epoch 110, loss 0.0004901130450889468\n",
            "torch.Size([3064, 1, 1])\n",
            "epoch 111, loss 0.00045624052290804684\n",
            "torch.Size([3064, 1, 1])\n",
            "epoch 112, loss 0.00048618996515870094\n",
            "torch.Size([3064, 1, 1])\n",
            "epoch 113, loss 0.000464458396891132\n",
            "torch.Size([3064, 1, 1])\n",
            "epoch 114, loss 0.00046671865857206285\n",
            "torch.Size([3064, 1, 1])\n",
            "epoch 115, loss 0.00044761018943972886\n",
            "torch.Size([3064, 1, 1])\n",
            "epoch 116, loss 0.000445072102593258\n",
            "torch.Size([3064, 1, 1])\n",
            "epoch 117, loss 0.0004699900164268911\n",
            "torch.Size([3064, 1, 1])\n",
            "epoch 118, loss 0.00047004196676425636\n",
            "torch.Size([3064, 1, 1])\n",
            "epoch 119, loss 0.000440512114437297\n",
            "torch.Size([3064, 1, 1])\n",
            "epoch 120, loss 0.0004523563839029521, eval loss 0.018798155710101128\n",
            "torch.Size([3064, 1, 1])\n",
            "epoch 121, loss 0.00044315593549981713\n",
            "torch.Size([3064, 1, 1])\n",
            "epoch 122, loss 0.0004177000664640218\n",
            "torch.Size([3064, 1, 1])\n",
            "epoch 123, loss 0.00047049293061718345\n",
            "torch.Size([3064, 1, 1])\n",
            "epoch 124, loss 0.0004280563734937459\n",
            "torch.Size([3064, 1, 1])\n",
            "epoch 125, loss 0.0004537805216386914\n",
            "torch.Size([3064, 1, 1])\n",
            "epoch 126, loss 0.00042541889706626534\n",
            "torch.Size([3064, 1, 1])\n",
            "epoch 127, loss 0.000435039954027161\n",
            "torch.Size([3064, 1, 1])\n",
            "epoch 128, loss 0.0004346222267486155\n",
            "torch.Size([3064, 1, 1])\n",
            "epoch 129, loss 0.00044176619849167764\n",
            "torch.Size([3064, 1, 1])\n",
            "epoch 130, loss 0.00044358643935993314\n",
            "torch.Size([3064, 1, 1])\n",
            "epoch 131, loss 0.0003942740731872618\n",
            "torch.Size([3064, 1, 1])\n",
            "epoch 132, loss 0.0004254898231010884\n",
            "torch.Size([3064, 1, 1])\n",
            "epoch 133, loss 0.0003972199046984315\n",
            "torch.Size([3064, 1, 1])\n",
            "epoch 134, loss 0.0004215056833345443\n",
            "torch.Size([3064, 1, 1])\n",
            "epoch 135, loss 0.00038503549876622856\n",
            "torch.Size([3064, 1, 1])\n",
            "epoch 136, loss 0.0004021788772661239\n",
            "torch.Size([3064, 1, 1])\n",
            "epoch 137, loss 0.0003939768357668072\n",
            "torch.Size([3064, 1, 1])\n",
            "epoch 138, loss 0.0003979213070124388\n",
            "torch.Size([3064, 1, 1])\n",
            "epoch 139, loss 0.0003895105328410864\n",
            "torch.Size([3064, 1, 1])\n",
            "epoch 140, loss 0.0003838927368633449, eval loss 0.013376537710428238\n",
            "torch.Size([3064, 1, 1])\n",
            "epoch 141, loss 0.00038476509507745504\n",
            "torch.Size([3064, 1, 1])\n",
            "epoch 142, loss 0.0003885417536366731\n",
            "torch.Size([3064, 1, 1])\n",
            "epoch 143, loss 0.00037481129402294755\n",
            "torch.Size([3064, 1, 1])\n",
            "epoch 144, loss 0.00039346018456853926\n",
            "torch.Size([3064, 1, 1])\n",
            "epoch 145, loss 0.00038794291322119534\n",
            "torch.Size([3064, 1, 1])\n",
            "epoch 146, loss 0.00038228591438382864\n",
            "torch.Size([3064, 1, 1])\n",
            "epoch 147, loss 0.0003839691635221243\n",
            "torch.Size([3064, 1, 1])\n",
            "epoch 148, loss 0.00037089019315317273\n",
            "torch.Size([3064, 1, 1])\n",
            "epoch 149, loss 0.0003627852420322597\n",
            "torch.Size([3064, 1, 1])\n",
            "epoch 150, loss 0.0003665327385533601\n",
            "torch.Size([3064, 1, 1])\n",
            "epoch 151, loss 0.00038232249789871275\n",
            "torch.Size([3064, 1, 1])\n",
            "epoch 152, loss 0.00035227855551056564\n",
            "torch.Size([3064, 1, 1])\n",
            "epoch 153, loss 0.0003543304337654263\n",
            "torch.Size([3064, 1, 1])\n",
            "epoch 154, loss 0.0003749720344785601\n",
            "torch.Size([3064, 1, 1])\n",
            "epoch 155, loss 0.0003618208284024149\n",
            "torch.Size([3064, 1, 1])\n",
            "epoch 156, loss 0.0003507738874759525\n",
            "torch.Size([3064, 1, 1])\n",
            "epoch 157, loss 0.0003503526095300913\n",
            "torch.Size([3064, 1, 1])\n",
            "epoch 158, loss 0.000340144382789731\n",
            "torch.Size([3064, 1, 1])\n",
            "epoch 159, loss 0.00035317885340191424\n",
            "torch.Size([3064, 1, 1])\n",
            "epoch 160, loss 0.00033036957029253244, eval loss 0.009826987981796265\n",
            "torch.Size([3064, 1, 1])\n",
            "epoch 161, loss 0.0003415110404603183\n",
            "torch.Size([3064, 1, 1])\n",
            "epoch 162, loss 0.0003438299463596195\n",
            "torch.Size([3064, 1, 1])\n",
            "epoch 163, loss 0.0003423301095608622\n",
            "torch.Size([3064, 1, 1])\n",
            "epoch 164, loss 0.00036033327342011034\n",
            "torch.Size([3064, 1, 1])\n",
            "epoch 165, loss 0.00033777151838876307\n",
            "torch.Size([3064, 1, 1])\n",
            "epoch 166, loss 0.00032150393235497177\n",
            "torch.Size([3064, 1, 1])\n",
            "epoch 167, loss 0.00032398919574916363\n",
            "torch.Size([3064, 1, 1])\n",
            "epoch 168, loss 0.00033097233972512186\n",
            "torch.Size([3064, 1, 1])\n",
            "epoch 169, loss 0.0003130295954179019\n",
            "torch.Size([3064, 1, 1])\n",
            "epoch 170, loss 0.0003265162813477218\n",
            "torch.Size([3064, 1, 1])\n",
            "epoch 171, loss 0.00030879679252393544\n",
            "torch.Size([3064, 1, 1])\n",
            "epoch 172, loss 0.00033302188967354596\n",
            "torch.Size([3064, 1, 1])\n",
            "epoch 173, loss 0.00031478478922508657\n",
            "torch.Size([3064, 1, 1])\n",
            "epoch 174, loss 0.00033113869722001255\n",
            "torch.Size([3064, 1, 1])\n",
            "epoch 175, loss 0.0003196231846231967\n",
            "torch.Size([3064, 1, 1])\n",
            "epoch 176, loss 0.0003260100493207574\n",
            "torch.Size([3064, 1, 1])\n",
            "epoch 177, loss 0.00030983082251623273\n",
            "torch.Size([3064, 1, 1])\n",
            "epoch 178, loss 0.0003322629490867257\n",
            "torch.Size([3064, 1, 1])\n",
            "epoch 179, loss 0.00029700060258619487\n",
            "torch.Size([3064, 1, 1])\n",
            "epoch 180, loss 0.0003175538731738925, eval loss 0.008238070644438267\n",
            "torch.Size([3064, 1, 1])\n",
            "epoch 181, loss 0.0003002191078849137\n",
            "torch.Size([3064, 1, 1])\n",
            "epoch 182, loss 0.0003073678526561707\n",
            "torch.Size([3064, 1, 1])\n",
            "epoch 183, loss 0.00031155601027421653\n",
            "torch.Size([3064, 1, 1])\n",
            "epoch 184, loss 0.0002968968474306166\n",
            "torch.Size([3064, 1, 1])\n",
            "epoch 185, loss 0.0002945325104519725\n",
            "torch.Size([3064, 1, 1])\n",
            "epoch 186, loss 0.00028867999208159745\n",
            "torch.Size([3064, 1, 1])\n",
            "epoch 187, loss 0.0002958154655061662\n",
            "torch.Size([3064, 1, 1])\n",
            "epoch 188, loss 0.000299652514513582\n",
            "torch.Size([3064, 1, 1])\n",
            "epoch 189, loss 0.0003055505221709609\n",
            "torch.Size([3064, 1, 1])\n",
            "epoch 190, loss 0.00030885112937539816\n",
            "torch.Size([3064, 1, 1])\n",
            "epoch 191, loss 0.0003022297169081867\n",
            "torch.Size([3064, 1, 1])\n",
            "epoch 192, loss 0.0002920745755545795\n",
            "torch.Size([3064, 1, 1])\n",
            "epoch 193, loss 0.0002945075975731015\n",
            "torch.Size([3064, 1, 1])\n",
            "epoch 194, loss 0.0002880775136873126\n",
            "torch.Size([3064, 1, 1])\n",
            "epoch 195, loss 0.0003005840990226716\n",
            "torch.Size([3064, 1, 1])\n",
            "epoch 196, loss 0.00028930403641425073\n",
            "torch.Size([3064, 1, 1])\n",
            "epoch 197, loss 0.0002942884457297623\n",
            "torch.Size([3064, 1, 1])\n",
            "epoch 198, loss 0.00028378082788549364\n",
            "torch.Size([3064, 1, 1])\n",
            "epoch 199, loss 0.0002854872145690024\n",
            "torch.Size([3064, 1, 1])\n",
            "epoch 200, loss 0.00026914384216070175, eval loss 0.009107307530939579\n",
            "torch.Size([3064, 1, 1])\n",
            "epoch 201, loss 0.00029334964347071946\n",
            "torch.Size([3064, 1, 1])\n",
            "epoch 202, loss 0.0002932788629550487\n",
            "torch.Size([3064, 1, 1])\n",
            "epoch 203, loss 0.00027714468888007104\n",
            "torch.Size([3064, 1, 1])\n",
            "epoch 204, loss 0.0002892272896133363\n",
            "torch.Size([3064, 1, 1])\n",
            "epoch 205, loss 0.0002781461807899177\n",
            "torch.Size([3064, 1, 1])\n",
            "epoch 206, loss 0.00027843823772855103\n",
            "torch.Size([3064, 1, 1])\n",
            "epoch 207, loss 0.00031181288068182766\n",
            "torch.Size([3064, 1, 1])\n",
            "epoch 208, loss 0.00027701188810169697\n",
            "torch.Size([3064, 1, 1])\n",
            "epoch 209, loss 0.00025913942954503\n",
            "torch.Size([3064, 1, 1])\n",
            "epoch 210, loss 0.00027572514954954386\n",
            "torch.Size([3064, 1, 1])\n",
            "epoch 211, loss 0.00026146243908442557\n",
            "torch.Size([3064, 1, 1])\n",
            "epoch 212, loss 0.00025830112281255424\n",
            "torch.Size([3064, 1, 1])\n",
            "epoch 213, loss 0.0002828894357662648\n",
            "torch.Size([3064, 1, 1])\n",
            "epoch 214, loss 0.000277534534689039\n",
            "torch.Size([3064, 1, 1])\n",
            "epoch 215, loss 0.00025651237228885293\n",
            "torch.Size([3064, 1, 1])\n",
            "epoch 216, loss 0.00027288933051750064\n",
            "torch.Size([3064, 1, 1])\n",
            "epoch 217, loss 0.0002950328926090151\n",
            "torch.Size([3064, 1, 1])\n",
            "epoch 218, loss 0.000277248997008428\n",
            "torch.Size([3064, 1, 1])\n",
            "epoch 219, loss 0.0002792592567857355\n",
            "torch.Size([3064, 1, 1])\n",
            "epoch 220, loss 0.00027232011780142784, eval loss 0.010198493488132954\n",
            "torch.Size([3064, 1, 1])\n",
            "epoch 221, loss 0.0002759577473625541\n",
            "torch.Size([3064, 1, 1])\n",
            "epoch 222, loss 0.0002536401734687388\n",
            "torch.Size([3064, 1, 1])\n",
            "epoch 223, loss 0.00027219028561376035\n",
            "torch.Size([3064, 1, 1])\n",
            "epoch 224, loss 0.0002635026758071035\n",
            "torch.Size([3064, 1, 1])\n",
            "epoch 225, loss 0.0002745694073382765\n",
            "torch.Size([3064, 1, 1])\n",
            "epoch 226, loss 0.00026478804647922516\n",
            "torch.Size([3064, 1, 1])\n",
            "epoch 227, loss 0.00026833039009943604\n",
            "torch.Size([3064, 1, 1])\n",
            "epoch 228, loss 0.0002465890138410032\n",
            "torch.Size([3064, 1, 1])\n",
            "epoch 229, loss 0.00025245299912057817\n",
            "torch.Size([3064, 1, 1])\n",
            "epoch 230, loss 0.000268784468062222\n",
            "torch.Size([3064, 1, 1])\n",
            "epoch 231, loss 0.000266965915216133\n",
            "torch.Size([3064, 1, 1])\n",
            "epoch 232, loss 0.00025209251907654107\n",
            "torch.Size([3064, 1, 1])\n",
            "epoch 233, loss 0.000238908440223895\n",
            "torch.Size([3064, 1, 1])\n",
            "epoch 234, loss 0.0002472249325364828\n",
            "torch.Size([3064, 1, 1])\n",
            "epoch 235, loss 0.00024240952916443348\n",
            "torch.Size([3064, 1, 1])\n",
            "epoch 236, loss 0.00025627814466133714\n",
            "torch.Size([3064, 1, 1])\n",
            "epoch 237, loss 0.0002263627975480631\n",
            "torch.Size([3064, 1, 1])\n",
            "epoch 238, loss 0.00026378093753010035\n",
            "torch.Size([3064, 1, 1])\n",
            "epoch 239, loss 0.00024179644242394716\n",
            "torch.Size([3064, 1, 1])\n",
            "epoch 240, loss 0.00026100355898961425, eval loss 0.01035100407898426\n",
            "torch.Size([3064, 1, 1])\n",
            "epoch 241, loss 0.00025134734460152686\n",
            "torch.Size([3064, 1, 1])\n",
            "epoch 242, loss 0.00024632643908262253\n",
            "torch.Size([3064, 1, 1])\n",
            "epoch 243, loss 0.00025451258989050984\n",
            "torch.Size([3064, 1, 1])\n",
            "epoch 244, loss 0.00023145064187701792\n",
            "torch.Size([3064, 1, 1])\n",
            "epoch 245, loss 0.00025789503706619143\n",
            "torch.Size([3064, 1, 1])\n",
            "epoch 246, loss 0.00025090298731811345\n",
            "torch.Size([3064, 1, 1])\n",
            "epoch 247, loss 0.0002441673132125288\n",
            "torch.Size([3064, 1, 1])\n",
            "epoch 248, loss 0.00024484400637447834\n",
            "torch.Size([3064, 1, 1])\n",
            "epoch 249, loss 0.0002563342859502882\n",
            "torch.Size([3064, 1, 1])\n",
            "epoch 250, loss 0.00023446093837264925\n",
            "torch.Size([3064, 1, 1])\n",
            "epoch 251, loss 0.00027516321279108524\n",
            "torch.Size([3064, 1, 1])\n",
            "epoch 252, loss 0.00023678581055719405\n",
            "torch.Size([3064, 1, 1])\n",
            "epoch 253, loss 0.0002635011915117502\n",
            "torch.Size([3064, 1, 1])\n",
            "epoch 254, loss 0.00023483407858293504\n",
            "torch.Size([3064, 1, 1])\n",
            "epoch 255, loss 0.00023835098545532674\n",
            "torch.Size([3064, 1, 1])\n",
            "epoch 256, loss 0.00022422417532652617\n",
            "torch.Size([3064, 1, 1])\n",
            "epoch 257, loss 0.00024810596369206905\n",
            "torch.Size([3064, 1, 1])\n",
            "epoch 258, loss 0.00024390171165578067\n",
            "torch.Size([3064, 1, 1])\n",
            "epoch 259, loss 0.00023494595370721072\n",
            "torch.Size([3064, 1, 1])\n",
            "epoch 260, loss 0.00025058092433027923, eval loss 0.01014017779380083\n",
            "torch.Size([3064, 1, 1])\n",
            "epoch 261, loss 0.00022970209829509258\n",
            "torch.Size([3064, 1, 1])\n",
            "epoch 262, loss 0.0002395621413597837\n",
            "torch.Size([3064, 1, 1])\n",
            "epoch 263, loss 0.000237479034694843\n",
            "torch.Size([3064, 1, 1])\n",
            "epoch 264, loss 0.00022695424559060484\n",
            "torch.Size([3064, 1, 1])\n",
            "epoch 265, loss 0.0002407678693998605\n",
            "torch.Size([3064, 1, 1])\n",
            "epoch 266, loss 0.0002347011904930696\n",
            "torch.Size([3064, 1, 1])\n",
            "epoch 267, loss 0.00023152671928983182\n",
            "torch.Size([3064, 1, 1])\n",
            "epoch 268, loss 0.00024631404085084796\n",
            "torch.Size([3064, 1, 1])\n",
            "epoch 269, loss 0.00024027880863286555\n",
            "torch.Size([3064, 1, 1])\n",
            "epoch 270, loss 0.00021970836678519845\n",
            "torch.Size([3064, 1, 1])\n",
            "epoch 271, loss 0.0002200904709752649\n",
            "torch.Size([3064, 1, 1])\n",
            "epoch 272, loss 0.00021908488997723907\n",
            "torch.Size([3064, 1, 1])\n",
            "epoch 273, loss 0.00023208596394397318\n",
            "torch.Size([3064, 1, 1])\n",
            "epoch 274, loss 0.00022883656492922455\n",
            "torch.Size([3064, 1, 1])\n",
            "epoch 275, loss 0.00020964813302271068\n",
            "torch.Size([3064, 1, 1])\n",
            "epoch 276, loss 0.00022694254585076123\n",
            "torch.Size([3064, 1, 1])\n",
            "epoch 277, loss 0.00022613040346186608\n",
            "torch.Size([3064, 1, 1])\n",
            "epoch 278, loss 0.0002174896071664989\n",
            "torch.Size([3064, 1, 1])\n",
            "epoch 279, loss 0.0002156170376110822\n",
            "torch.Size([3064, 1, 1])\n",
            "epoch 280, loss 0.00022819040168542415, eval loss 0.010217813774943352\n",
            "torch.Size([3064, 1, 1])\n",
            "epoch 281, loss 0.00021609137183986604\n",
            "torch.Size([3064, 1, 1])\n",
            "epoch 282, loss 0.00022548227570950985\n",
            "torch.Size([3064, 1, 1])\n",
            "epoch 283, loss 0.0002089194895233959\n",
            "torch.Size([3064, 1, 1])\n",
            "epoch 284, loss 0.00020997121464461088\n",
            "torch.Size([3064, 1, 1])\n",
            "epoch 285, loss 0.00021380027465056628\n",
            "torch.Size([3064, 1, 1])\n",
            "epoch 286, loss 0.00021599751198664308\n",
            "torch.Size([3064, 1, 1])\n",
            "epoch 287, loss 0.00023196575057227165\n",
            "torch.Size([3064, 1, 1])\n",
            "epoch 288, loss 0.0002162127784686163\n",
            "torch.Size([3064, 1, 1])\n",
            "epoch 289, loss 0.00023014392354525626\n",
            "torch.Size([3064, 1, 1])\n",
            "epoch 290, loss 0.00021334276243578643\n",
            "torch.Size([3064, 1, 1])\n",
            "epoch 291, loss 0.00022973767772782594\n",
            "torch.Size([3064, 1, 1])\n",
            "epoch 292, loss 0.00022088378318585455\n",
            "torch.Size([3064, 1, 1])\n",
            "epoch 293, loss 0.00023978717217687517\n",
            "torch.Size([3064, 1, 1])\n",
            "epoch 294, loss 0.00023033418983686715\n",
            "torch.Size([3064, 1, 1])\n",
            "epoch 295, loss 0.00020981099805794656\n",
            "torch.Size([3064, 1, 1])\n",
            "epoch 296, loss 0.00020642034360207617\n",
            "torch.Size([3064, 1, 1])\n",
            "epoch 297, loss 0.00021225560340099037\n",
            "torch.Size([3064, 1, 1])\n",
            "epoch 298, loss 0.0002234686107840389\n",
            "torch.Size([3064, 1, 1])\n",
            "epoch 299, loss 0.0002177568821934983\n",
            "torch.Size([3064, 1, 1])\n",
            "epoch 300, loss 0.0002152891829609871, eval loss 0.009383002296090126\n",
            "torch.Size([3064, 1, 1])\n",
            "epoch 301, loss 0.00021116051357239485\n",
            "torch.Size([3064, 1, 1])\n",
            "epoch 302, loss 0.00019368829089216888\n",
            "torch.Size([3064, 1, 1])\n",
            "epoch 303, loss 0.00020938555826433003\n",
            "torch.Size([3064, 1, 1])\n",
            "epoch 304, loss 0.00021274761820677668\n",
            "torch.Size([3064, 1, 1])\n",
            "epoch 305, loss 0.00021191968698985875\n",
            "torch.Size([3064, 1, 1])\n",
            "epoch 306, loss 0.00021415954688563943\n",
            "torch.Size([3064, 1, 1])\n",
            "epoch 307, loss 0.00020956194202881306\n",
            "torch.Size([3064, 1, 1])\n",
            "epoch 308, loss 0.00019832064572256058\n",
            "torch.Size([3064, 1, 1])\n",
            "epoch 309, loss 0.00020405047689564526\n",
            "torch.Size([3064, 1, 1])\n",
            "epoch 310, loss 0.0002041755651589483\n",
            "torch.Size([3064, 1, 1])\n",
            "epoch 311, loss 0.00020808479166589677\n",
            "torch.Size([3064, 1, 1])\n",
            "epoch 312, loss 0.0001995826605707407\n",
            "torch.Size([3064, 1, 1])\n",
            "epoch 313, loss 0.0002076897071674466\n",
            "torch.Size([3064, 1, 1])\n",
            "epoch 314, loss 0.00020117622625548393\n",
            "torch.Size([3064, 1, 1])\n",
            "epoch 315, loss 0.00022172488388605416\n",
            "torch.Size([3064, 1, 1])\n",
            "epoch 316, loss 0.00021630611445289105\n",
            "torch.Size([3064, 1, 1])\n",
            "epoch 317, loss 0.00020621894509531558\n",
            "torch.Size([3064, 1, 1])\n",
            "epoch 318, loss 0.00020696724823210388\n",
            "torch.Size([3064, 1, 1])\n",
            "epoch 319, loss 0.00020795169984921813\n",
            "torch.Size([3064, 1, 1])\n",
            "epoch 320, loss 0.0001964924013009295, eval loss 0.008937477134168148\n",
            "torch.Size([3064, 1, 1])\n",
            "epoch 321, loss 0.00020037268404848874\n",
            "torch.Size([3064, 1, 1])\n",
            "epoch 322, loss 0.00018621417984832078\n",
            "torch.Size([3064, 1, 1])\n",
            "epoch 323, loss 0.00018350454047322273\n",
            "torch.Size([3064, 1, 1])\n",
            "epoch 324, loss 0.0001893750304589048\n",
            "torch.Size([3064, 1, 1])\n",
            "epoch 325, loss 0.00020230337395332754\n",
            "torch.Size([3064, 1, 1])\n",
            "epoch 326, loss 0.00020203714666422457\n",
            "torch.Size([3064, 1, 1])\n",
            "epoch 327, loss 0.00018781202379614115\n",
            "torch.Size([3064, 1, 1])\n",
            "epoch 328, loss 0.00019202145631425083\n",
            "torch.Size([3064, 1, 1])\n",
            "epoch 329, loss 0.0002050073817372322\n",
            "torch.Size([3064, 1, 1])\n",
            "epoch 330, loss 0.0001945745461853221\n",
            "torch.Size([3064, 1, 1])\n",
            "epoch 331, loss 0.00020609477360267192\n",
            "torch.Size([3064, 1, 1])\n",
            "epoch 332, loss 0.00018483787425793707\n",
            "torch.Size([3064, 1, 1])\n",
            "epoch 333, loss 0.00019017996964976192\n",
            "torch.Size([3064, 1, 1])\n",
            "epoch 334, loss 0.000197305649635382\n",
            "torch.Size([3064, 1, 1])\n",
            "epoch 335, loss 0.00020642392337322235\n",
            "torch.Size([3064, 1, 1])\n",
            "epoch 336, loss 0.0002016227663261816\n",
            "torch.Size([3064, 1, 1])\n",
            "epoch 337, loss 0.00018737537902779877\n",
            "torch.Size([3064, 1, 1])\n",
            "epoch 338, loss 0.00019487127428874373\n",
            "torch.Size([3064, 1, 1])\n",
            "epoch 339, loss 0.0002149583597201854\n",
            "torch.Size([3064, 1, 1])\n",
            "epoch 340, loss 0.00020150649652350694, eval loss 0.008799761533737183\n",
            "torch.Size([3064, 1, 1])\n",
            "epoch 341, loss 0.00018460117280483246\n",
            "torch.Size([3064, 1, 1])\n",
            "epoch 342, loss 0.0001896849717013538\n",
            "torch.Size([3064, 1, 1])\n",
            "epoch 343, loss 0.0002001121756620705\n",
            "torch.Size([3064, 1, 1])\n",
            "epoch 344, loss 0.00019276290549896657\n",
            "torch.Size([3064, 1, 1])\n",
            "epoch 345, loss 0.0001846163213485852\n",
            "torch.Size([3064, 1, 1])\n",
            "epoch 346, loss 0.00018925436597783118\n",
            "torch.Size([3064, 1, 1])\n",
            "epoch 347, loss 0.0001952478924067691\n",
            "torch.Size([3064, 1, 1])\n",
            "epoch 348, loss 0.00019168494327459484\n",
            "torch.Size([3064, 1, 1])\n",
            "epoch 349, loss 0.00018257196643389761\n",
            "torch.Size([3064, 1, 1])\n",
            "epoch 350, loss 0.0001855091832112521\n",
            "torch.Size([3064, 1, 1])\n",
            "epoch 351, loss 0.0001815133000491187\n",
            "torch.Size([3064, 1, 1])\n",
            "epoch 352, loss 0.00018142700719181448\n",
            "torch.Size([3064, 1, 1])\n",
            "epoch 353, loss 0.00018810776236932725\n",
            "torch.Size([3064, 1, 1])\n",
            "epoch 354, loss 0.0001840410113800317\n",
            "torch.Size([3064, 1, 1])\n",
            "epoch 355, loss 0.00017243715410586447\n",
            "torch.Size([3064, 1, 1])\n",
            "epoch 356, loss 0.00017127927276305854\n",
            "torch.Size([3064, 1, 1])\n",
            "epoch 357, loss 0.0001892994187073782\n",
            "torch.Size([3064, 1, 1])\n",
            "epoch 358, loss 0.00020692702673841268\n",
            "torch.Size([3064, 1, 1])\n",
            "epoch 359, loss 0.00018980103777721524\n",
            "torch.Size([3064, 1, 1])\n",
            "epoch 360, loss 0.00018716955673880875, eval loss 0.007650775369256735\n",
            "torch.Size([3064, 1, 1])\n",
            "epoch 361, loss 0.00020893973123747855\n",
            "torch.Size([3064, 1, 1])\n",
            "epoch 362, loss 0.00021797613590024412\n",
            "torch.Size([3064, 1, 1])\n",
            "epoch 363, loss 0.000187997444299981\n",
            "torch.Size([3064, 1, 1])\n",
            "epoch 364, loss 0.00017276842845603824\n",
            "torch.Size([3064, 1, 1])\n",
            "epoch 365, loss 0.0001902879448607564\n",
            "torch.Size([3064, 1, 1])\n",
            "epoch 366, loss 0.00017822028894443065\n",
            "torch.Size([3064, 1, 1])\n",
            "epoch 367, loss 0.00017844383546616882\n",
            "torch.Size([3064, 1, 1])\n",
            "epoch 368, loss 0.00020373979350551963\n",
            "torch.Size([3064, 1, 1])\n",
            "epoch 369, loss 0.00020378237240947783\n",
            "torch.Size([3064, 1, 1])\n",
            "epoch 370, loss 0.0001841100020101294\n",
            "torch.Size([3064, 1, 1])\n",
            "epoch 371, loss 0.00020393470185808837\n",
            "torch.Size([3064, 1, 1])\n",
            "epoch 372, loss 0.00021985419152770191\n",
            "torch.Size([3064, 1, 1])\n",
            "epoch 373, loss 0.00018278721836395562\n",
            "torch.Size([3064, 1, 1])\n",
            "epoch 374, loss 0.00020029436564072967\n",
            "torch.Size([3064, 1, 1])\n",
            "epoch 375, loss 0.0002084284642478451\n",
            "torch.Size([3064, 1, 1])\n",
            "epoch 376, loss 0.00017871633463073522\n",
            "torch.Size([3064, 1, 1])\n",
            "epoch 377, loss 0.00020521832630038261\n",
            "torch.Size([3064, 1, 1])\n",
            "epoch 378, loss 0.00017986676539294422\n",
            "torch.Size([3064, 1, 1])\n",
            "epoch 379, loss 0.0001892426225822419\n",
            "torch.Size([3064, 1, 1])\n",
            "epoch 380, loss 0.0001943008683156222, eval loss 0.009707330726087093\n",
            "torch.Size([3064, 1, 1])\n",
            "epoch 381, loss 0.00017560455307830125\n",
            "torch.Size([3064, 1, 1])\n",
            "epoch 382, loss 0.00018789363093674183\n",
            "torch.Size([3064, 1, 1])\n",
            "epoch 383, loss 0.00018656067550182343\n",
            "torch.Size([3064, 1, 1])\n",
            "epoch 384, loss 0.00017977235256694257\n",
            "torch.Size([3064, 1, 1])\n",
            "epoch 385, loss 0.0001967546995729208\n",
            "torch.Size([3064, 1, 1])\n",
            "epoch 386, loss 0.00018668186385184526\n",
            "torch.Size([3064, 1, 1])\n",
            "epoch 387, loss 0.00018162191554438323\n",
            "torch.Size([3064, 1, 1])\n",
            "epoch 388, loss 0.00018867375911213458\n",
            "torch.Size([3064, 1, 1])\n",
            "epoch 389, loss 0.00018661849026102573\n",
            "torch.Size([3064, 1, 1])\n",
            "epoch 390, loss 0.0001851403503678739\n",
            "torch.Size([3064, 1, 1])\n",
            "epoch 391, loss 0.00018647301476448774\n",
            "torch.Size([3064, 1, 1])\n",
            "epoch 392, loss 0.00017462295363657176\n",
            "torch.Size([3064, 1, 1])\n",
            "epoch 393, loss 0.00018588968669064343\n",
            "torch.Size([3064, 1, 1])\n",
            "epoch 394, loss 0.00018778735829982907\n",
            "torch.Size([3064, 1, 1])\n",
            "epoch 395, loss 0.0001744878973113373\n",
            "torch.Size([3064, 1, 1])\n",
            "epoch 396, loss 0.00017476864741183817\n",
            "torch.Size([3064, 1, 1])\n",
            "epoch 397, loss 0.00019246077863499522\n",
            "torch.Size([3064, 1, 1])\n",
            "epoch 398, loss 0.0001747632777551189\n",
            "torch.Size([3064, 1, 1])\n",
            "epoch 399, loss 0.0001717063132673502\n",
            "torch.Size([3064, 1, 1])\n",
            "epoch 400, loss 0.00016991082520689815, eval loss 0.009076773189008236\n",
            "torch.Size([3064, 1, 1])\n",
            "epoch 401, loss 0.00017280157771892846\n",
            "torch.Size([3064, 1, 1])\n",
            "epoch 402, loss 0.00016802700702100992\n",
            "torch.Size([3064, 1, 1])\n",
            "epoch 403, loss 0.00017270070384256542\n",
            "torch.Size([3064, 1, 1])\n",
            "epoch 404, loss 0.00018728713621385396\n",
            "torch.Size([3064, 1, 1])\n",
            "epoch 405, loss 0.000165581310284324\n",
            "torch.Size([3064, 1, 1])\n",
            "epoch 406, loss 0.0001635973749216646\n",
            "torch.Size([3064, 1, 1])\n",
            "epoch 407, loss 0.00017133745132014155\n",
            "torch.Size([3064, 1, 1])\n",
            "epoch 408, loss 0.00017945986473932862\n",
            "torch.Size([3064, 1, 1])\n",
            "epoch 409, loss 0.0001535721676191315\n",
            "torch.Size([3064, 1, 1])\n",
            "epoch 410, loss 0.00016184954438358545\n",
            "torch.Size([3064, 1, 1])\n",
            "epoch 411, loss 0.0001651630736887455\n",
            "torch.Size([3064, 1, 1])\n",
            "epoch 412, loss 0.00016701643471606076\n",
            "torch.Size([3064, 1, 1])\n",
            "epoch 413, loss 0.00016737589612603188\n",
            "torch.Size([3064, 1, 1])\n",
            "epoch 414, loss 0.00017623163876123726\n",
            "torch.Size([3064, 1, 1])\n",
            "epoch 415, loss 0.000165657649631612\n",
            "torch.Size([3064, 1, 1])\n",
            "epoch 416, loss 0.00017235706036444753\n",
            "torch.Size([3064, 1, 1])\n",
            "epoch 417, loss 0.00016016385052353144\n",
            "torch.Size([3064, 1, 1])\n",
            "epoch 418, loss 0.0001772339892340824\n",
            "torch.Size([3064, 1, 1])\n",
            "epoch 419, loss 0.00017048003792297095\n",
            "torch.Size([3064, 1, 1])\n",
            "epoch 420, loss 0.0001710107462713495, eval loss 0.007978199049830437\n",
            "torch.Size([3064, 1, 1])\n",
            "epoch 421, loss 0.00017474323976784945\n",
            "torch.Size([3064, 1, 1])\n",
            "epoch 422, loss 0.0001712253870209679\n",
            "torch.Size([3064, 1, 1])\n",
            "epoch 423, loss 0.00016351228987332433\n",
            "torch.Size([3064, 1, 1])\n",
            "epoch 424, loss 0.00015629740664735436\n",
            "torch.Size([3064, 1, 1])\n",
            "epoch 425, loss 0.0001617843226995319\n",
            "torch.Size([3064, 1, 1])\n",
            "epoch 426, loss 0.00016642014088574797\n",
            "torch.Size([3064, 1, 1])\n",
            "epoch 427, loss 0.0001821668993216008\n",
            "torch.Size([3064, 1, 1])\n",
            "epoch 428, loss 0.00019887943926732987\n",
            "torch.Size([3064, 1, 1])\n",
            "epoch 429, loss 0.00018802091653924435\n",
            "torch.Size([3064, 1, 1])\n",
            "epoch 430, loss 0.00016828604566399008\n",
            "torch.Size([3064, 1, 1])\n",
            "epoch 431, loss 0.00017944438150152564\n",
            "torch.Size([3064, 1, 1])\n",
            "epoch 432, loss 0.00020204979227855802\n",
            "torch.Size([3064, 1, 1])\n",
            "epoch 433, loss 0.00018551992252469063\n",
            "torch.Size([3064, 1, 1])\n",
            "epoch 434, loss 0.00016559251525904983\n",
            "torch.Size([3064, 1, 1])\n",
            "epoch 435, loss 0.00020161505381111056\n",
            "torch.Size([3064, 1, 1])\n",
            "epoch 436, loss 0.00020499418315012008\n",
            "torch.Size([3064, 1, 1])\n",
            "epoch 437, loss 0.00015857692051213235\n",
            "torch.Size([3064, 1, 1])\n",
            "epoch 438, loss 0.0001705243339529261\n",
            "torch.Size([3064, 1, 1])\n",
            "epoch 439, loss 0.00017016430501826108\n",
            "torch.Size([3064, 1, 1])\n",
            "epoch 440, loss 0.00016422811313532293, eval loss 0.009504689835011959\n",
            "torch.Size([3064, 1, 1])\n",
            "epoch 441, loss 0.00016669805336277932\n",
            "torch.Size([3064, 1, 1])\n",
            "epoch 442, loss 0.00015992671251296997\n",
            "torch.Size([3064, 1, 1])\n",
            "epoch 443, loss 0.000163197866640985\n",
            "torch.Size([3064, 1, 1])\n",
            "epoch 444, loss 0.00018157821614295244\n",
            "torch.Size([3064, 1, 1])\n",
            "epoch 445, loss 0.00017202229355461895\n",
            "torch.Size([3064, 1, 1])\n",
            "epoch 446, loss 0.00016451072588097304\n",
            "torch.Size([3064, 1, 1])\n",
            "epoch 447, loss 0.00017989167827181518\n",
            "torch.Size([3064, 1, 1])\n",
            "epoch 448, loss 0.00015761915710754693\n",
            "torch.Size([3064, 1, 1])\n",
            "epoch 449, loss 0.00017290975665673614\n",
            "torch.Size([3064, 1, 1])\n",
            "epoch 450, loss 0.00016337570559699088\n",
            "torch.Size([3064, 1, 1])\n",
            "epoch 451, loss 0.00016658661479596049\n",
            "torch.Size([3064, 1, 1])\n",
            "epoch 452, loss 0.00016148942813742906\n",
            "torch.Size([3064, 1, 1])\n",
            "epoch 453, loss 0.0001703467860352248\n",
            "torch.Size([3064, 1, 1])\n",
            "epoch 454, loss 0.0001668703625909984\n",
            "torch.Size([3064, 1, 1])\n",
            "epoch 455, loss 0.00016616213542874902\n",
            "torch.Size([3064, 1, 1])\n",
            "epoch 456, loss 0.00016467914974782616\n",
            "torch.Size([3064, 1, 1])\n",
            "epoch 457, loss 0.0001545794220874086\n",
            "torch.Size([3064, 1, 1])\n",
            "epoch 458, loss 0.00015170853293966502\n",
            "torch.Size([3064, 1, 1])\n",
            "epoch 459, loss 0.0001606940058991313\n",
            "torch.Size([3064, 1, 1])\n",
            "epoch 460, loss 0.0001499127974966541, eval loss 0.009102308191359043\n",
            "torch.Size([3064, 1, 1])\n",
            "epoch 461, loss 0.00015970740059856325\n",
            "torch.Size([3064, 1, 1])\n",
            "epoch 462, loss 0.00017221804591827095\n",
            "torch.Size([3064, 1, 1])\n",
            "epoch 463, loss 0.00016286922618746758\n",
            "torch.Size([3064, 1, 1])\n",
            "epoch 464, loss 0.00016076042084023356\n",
            "torch.Size([3064, 1, 1])\n",
            "epoch 465, loss 0.00016780510486569256\n",
            "torch.Size([3064, 1, 1])\n",
            "epoch 466, loss 0.00015402956341858953\n",
            "torch.Size([3064, 1, 1])\n",
            "epoch 467, loss 0.00015563677879981697\n",
            "torch.Size([3064, 1, 1])\n",
            "epoch 468, loss 0.0001765209308359772\n",
            "torch.Size([3064, 1, 1])\n",
            "epoch 469, loss 0.00019143486861139536\n",
            "torch.Size([3064, 1, 1])\n",
            "epoch 470, loss 0.0001611921761650592\n",
            "torch.Size([3064, 1, 1])\n",
            "epoch 471, loss 0.0001666457246756181\n",
            "torch.Size([3064, 1, 1])\n",
            "epoch 472, loss 0.00017773828585632145\n",
            "torch.Size([3064, 1, 1])\n",
            "epoch 473, loss 0.0001571428874740377\n",
            "torch.Size([3064, 1, 1])\n",
            "epoch 474, loss 0.00017741404008120298\n",
            "torch.Size([3064, 1, 1])\n",
            "epoch 475, loss 0.00020814257732126862\n",
            "torch.Size([3064, 1, 1])\n",
            "epoch 476, loss 0.00018154719145968556\n",
            "torch.Size([3064, 1, 1])\n",
            "epoch 477, loss 0.00015485372568946332\n",
            "torch.Size([3064, 1, 1])\n",
            "epoch 478, loss 0.00021280137298163027\n",
            "torch.Size([3064, 1, 1])\n",
            "epoch 479, loss 0.00017750378174241632\n",
            "torch.Size([3064, 1, 1])\n",
            "epoch 480, loss 0.0001660841953707859, eval loss 0.01095819752663374\n",
            "torch.Size([3064, 1, 1])\n",
            "epoch 481, loss 0.00019506123499013484\n",
            "torch.Size([3064, 1, 1])\n",
            "epoch 482, loss 0.00015983583580236882\n",
            "torch.Size([3064, 1, 1])\n",
            "epoch 483, loss 0.0001676766260061413\n",
            "torch.Size([3064, 1, 1])\n",
            "epoch 484, loss 0.0001812683040043339\n",
            "torch.Size([3064, 1, 1])\n",
            "epoch 485, loss 0.00015647242253180593\n",
            "torch.Size([3064, 1, 1])\n",
            "epoch 486, loss 0.0001750369556248188\n",
            "torch.Size([3064, 1, 1])\n",
            "epoch 487, loss 0.00017447925347369164\n",
            "torch.Size([3064, 1, 1])\n",
            "epoch 488, loss 0.00015678383351769298\n",
            "torch.Size([3064, 1, 1])\n",
            "epoch 489, loss 0.00016203366976696998\n",
            "torch.Size([3064, 1, 1])\n",
            "epoch 490, loss 0.00015831907512620091\n",
            "torch.Size([3064, 1, 1])\n",
            "epoch 491, loss 0.0001577710354467854\n",
            "torch.Size([3064, 1, 1])\n",
            "epoch 492, loss 0.0001635255030123517\n",
            "torch.Size([3064, 1, 1])\n",
            "epoch 493, loss 0.0001483746018493548\n",
            "torch.Size([3064, 1, 1])\n",
            "epoch 494, loss 0.00015892900410108268\n",
            "torch.Size([3064, 1, 1])\n",
            "epoch 495, loss 0.0001532039896119386\n",
            "torch.Size([3064, 1, 1])\n",
            "epoch 496, loss 0.00014149646449368447\n",
            "torch.Size([3064, 1, 1])\n",
            "epoch 497, loss 0.0001524866820545867\n",
            "torch.Size([3064, 1, 1])\n",
            "epoch 498, loss 0.0001453438599128276\n",
            "torch.Size([3064, 1, 1])\n",
            "epoch 499, loss 0.00015290765441022813\n"
          ]
        }
      ]
    },
    {
      "cell_type": "code",
      "source": [
        "rnn.out.weight"
      ],
      "metadata": {
        "colab": {
          "base_uri": "https://localhost:8080/"
        },
        "id": "o08thNpXUtMC",
        "outputId": "b12c557b-cbd5-4d4b-94f4-a136b297bdbe"
      },
      "execution_count": null,
      "outputs": [
        {
          "output_type": "execute_result",
          "data": {
            "text/plain": [
              "Parameter containing:\n",
              "tensor([[-0.0271,  0.0887,  0.0953, -0.0984,  0.1206,  0.1019, -0.1040, -0.1242,\n",
              "          0.1001,  0.0959,  0.1147, -0.1016,  0.0582,  0.1116,  0.0299,  0.0046,\n",
              "         -0.0286, -0.0183,  0.1146, -0.0121,  0.0501,  0.0629,  0.1035, -0.0309,\n",
              "         -0.0095,  0.1271,  0.1001,  0.0526,  0.1173, -0.0748, -0.1023,  0.0502,\n",
              "         -0.1022,  0.0588,  0.0898, -0.0594,  0.0962,  0.0126, -0.0586,  0.0419,\n",
              "          0.0368,  0.0786,  0.0525, -0.0892,  0.0313, -0.1002,  0.0749, -0.1185,\n",
              "          0.1204, -0.0462, -0.0578, -0.0781, -0.0874,  0.0271, -0.0453, -0.0622,\n",
              "          0.0011, -0.0081,  0.1185,  0.0064,  0.0776,  0.0775,  0.0529, -0.0646]],\n",
              "       device='cuda:0', requires_grad=True)"
            ]
          },
          "metadata": {},
          "execution_count": 17
        }
      ]
    },
    {
      "cell_type": "markdown",
      "source": [
        "# Part 3: MODEL PERFORMANCE EVAL"
      ],
      "metadata": {
        "id": "rM_SI0WZak8h"
      }
    },
    {
      "cell_type": "markdown",
      "source": [
        "\n",
        "\n",
        "> a plot of loss function overtime, to see the difference between prediction result and actual result\n",
        "\n",
        "I am quite suprised by the fact that errors between actual and predicted are so low\n",
        "\n"
      ],
      "metadata": {
        "id": "vFi61-sSTXj3"
      }
    },
    {
      "cell_type": "code",
      "source": [
        "plt.plot(history)"
      ],
      "metadata": {
        "colab": {
          "base_uri": "https://localhost:8080/",
          "height": 287
        },
        "id": "4l9J9xexaUtj",
        "outputId": "4ee4e584-1fef-46d3-feee-7b1f7833edc1"
      },
      "execution_count": null,
      "outputs": [
        {
          "output_type": "execute_result",
          "data": {
            "text/plain": [
              "[<matplotlib.lines.Line2D at 0x7f0df22f2220>]"
            ]
          },
          "metadata": {},
          "execution_count": 18
        },
        {
          "output_type": "display_data",
          "data": {
            "text/plain": [
              "<Figure size 432x288 with 1 Axes>"
            ],
            "image/png": "[encoded data removed]"
          },
          "metadata": {
            "needs_background": "light"
          }
        }
      ]
    },
    {
      "cell_type": "code",
      "source": [
        "rnn.eval()\n",
        "test_predict, _ = rnn(x_test_cuda, hidden_state)\n",
        "test_predict_cpu = test_predict.cpu().detach().numpy()"
      ],
      "metadata": {
        "id": "uOP7gIE8b3Vz"
      },
      "execution_count": null,
      "outputs": []
    },
    {
      "cell_type": "code",
      "source": [
        "test_predict_cpu.shape"
      ],
      "metadata": {
        "colab": {
          "base_uri": "https://localhost:8080/"
        },
        "id": "eNmr9dyjrPJ7",
        "outputId": "5edebd41-0c81-447a-cbbb-ed3a23b3289b"
      },
      "execution_count": null,
      "outputs": [
        {
          "output_type": "execute_result",
          "data": {
            "text/plain": [
              "(767, 1, 1)"
            ]
          },
          "metadata": {},
          "execution_count": 20
        }
      ]
    },
    {
      "cell_type": "markdown",
      "source": [
        "> showing a comparsion between predicted result and actual result"
      ],
      "metadata": {
        "id": "mv1AwwNgZG65"
      }
    },
    {
      "cell_type": "code",
      "source": [
        "plt.plot(sc.inverse_transform(y_test.reshape(-1,1)))\n",
        "plt.plot(sc.inverse_transform(test_predict_cpu.reshape(-1,1)))"
      ],
      "metadata": {
        "colab": {
          "base_uri": "https://localhost:8080/",
          "height": 283
        },
        "id": "oib1osnJmpal",
        "outputId": "64dc622b-fd75-476e-ace0-5c1c755a2007"
      },
      "execution_count": null,
      "outputs": [
        {
          "output_type": "execute_result",
          "data": {
            "text/plain": [
              "[<matplotlib.lines.Line2D at 0x7f0df22beb20>]"
            ]
          },
          "metadata": {},
          "execution_count": 21
        },
        {
          "output_type": "display_data",
          "data": {
            "text/plain": [
              "<Figure size 432x288 with 1 Axes>"
            ],
            "image/png": "[encoded data removed]"
          },
          "metadata": {
            "needs_background": "light"
          }
        }
      ]
    },
    {
      "cell_type": "code",
      "source": [
        "# plot original data\n",
        "plt.plot(sc.inverse_transform(df1.reshape(-1,1)), color='k')\n",
        "\n",
        "train_pred, hidden_state = rnn(inputs_cuda, None)\n",
        "train_pred_cpu = train_pred.cpu().detach().numpy()\n",
        "\n",
        "# use hidden state from previous training data\n",
        "test_predict, _ = rnn(x_test_cuda, hidden_state)\n",
        "test_predict_cpu = test_predict.cpu().detach().numpy()\n",
        "\n",
        "split_pt = int(x.shape[0] * 0.80) + 100 # window_size\n",
        "plt.plot(np.arange(100, split_pt, 1), sc.inverse_transform(train_pred_cpu.reshape(-1,1)), color='b')\n",
        "plt.plot(np.arange(split_pt, split_pt + len(test_predict_cpu), 1), sc.inverse_transform(test_predict_cpu.reshape(-1,1)), color='r')\n",
        "\n",
        "plt.xlabel('day')\n",
        "plt.ylabel('price of MMM stock')\n",
        "plt.legend(['original series','training fit','testing fit'], loc='center left', bbox_to_anchor=(1, 0.5))\n",
        "plt.show()"
      ],
      "metadata": {
        "colab": {
          "base_uri": "https://localhost:8080/",
          "height": 279
        },
        "id": "bcJa5mL5oxXL",
        "outputId": "4bf81430-c3f6-4428-b44f-88fb6840210b"
      },
      "execution_count": null,
      "outputs": [
        {
          "output_type": "display_data",
          "data": {
            "text/plain": [
              "<Figure size 432x288 with 1 Axes>"
            ],
            "image/png": "[encoded data removed]"
          },
          "metadata": {
            "needs_background": "light"
          }
        }
      ]
    },
    {
      "cell_type": "markdown",
      "source": [
        "> from the graph can clearly see that from RNN model can only provide a very **rough prediction** of the direction where the price will lead to, *since uptrend price has conteracted with downtrend price. this is also the main reason that prediction is so rough but the MSE is so low.*\n",
        "\n",
        "\n"
      ],
      "metadata": {
        "id": "zUZfGJVkW10b"
      }
    },
    {
      "cell_type": "code",
      "source": [
        "'''\n",
        "train_pred, hidden_state = rnn(inputs_cuda, None)\n",
        "train_pred_cpu = train_pred.cpu().detach().numpy()\n",
        "\n",
        "# use hidden state from previous training data\n",
        "test_predict, _ = rnn(x_test_cuda, hidden_state)\n",
        "test_predict_cpu = test_predict.cpu().detach().numpy()\n",
        "\n",
        "train_pred_cpu=sc.inverse_transform(train_pred_cpu.reshape(-1,1))\n",
        "test_predict_cpu=sc.inverse_transform(test_predict_cpu.reshape(-1,1))\n",
        "\n",
        "look_back=100\n",
        "trainPredictPlot = np.empty_like(df1)\n",
        "trainPredictPlot[:, :] = np.nan\n",
        "trainPredictPlot[look_back:len(train_pred_cpu)+look_back, :] = train_pred_cpu\n",
        "# shift test predictions for plotting\n",
        "testPredictPlot = np.empty_like(df1)\n",
        "testPredictPlot[:, :] = np.nan\n",
        "testPredictPlot[len(train_pred_cpu)+look_back+1:len(df1), :] = test_predict_cpu\n",
        "# plot baseline and predictions\n",
        "plt.plot(sc.inverse_transform(df1))\n",
        "plt.plot(trainPredictPlot)\n",
        "plt.plot(testPredictPlot)\n",
        "plt.show()\n",
        "'''\n"
      ],
      "metadata": {
        "colab": {
          "base_uri": "https://localhost:8080/",
          "height": 269
        },
        "id": "HNdBO765y6qJ",
        "outputId": "2fb2a0be-139c-44b4-a9a3-360c7a14016f"
      },
      "execution_count": null,
      "outputs": [
        {
          "output_type": "display_data",
          "data": {
            "text/plain": [
              "<Figure size 432x288 with 1 Axes>"
            ],
            "image/png": "[encoded data removed]"
          },
          "metadata": {
            "needs_background": "light"
          }
        }
      ]
    }
  ]
}